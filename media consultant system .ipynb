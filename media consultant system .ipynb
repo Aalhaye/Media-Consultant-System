{
 "cells": [
  {
   "cell_type": "markdown",
   "metadata": {},
   "source": [
    "تصميم آلية لحل النزاعات في نظام خبير استشاري إعلامي\n"
   ]
  },
  {
   "cell_type": "markdown",
   "metadata": {},
   "source": [
    "## السيناريو المقترح\n"
   ]
  },
  {
   "cell_type": "markdown",
   "metadata": {},
   "source": [
    "\n",
    "يُدير نظام خبير استشاري إعلامي بيانات من مصادر متعددة لتقديم توصيات حول الأخبار التي يجب نشرها أو الأولويات التحريرية\n",
    "تضارب القواعد قد يحدث عندما\n",
    "\n",
    "تُظهر قاعدة أن المصدر \"أ\" موثوق بناءً على تاريخ ماضي.\n",
    "قاعدة أخرى تشير إلى أن المصدر نفسه يفتقد الموثوقية بسبب تقرير جديد غير مثبت.\n",
    "\n"
   ]
  },
  {
   "cell_type": "markdown",
   "metadata": {},
   "source": [
    "\n",
    "### آلية حل النزاع المقترحة\n"
   ]
  },
  {
   "cell_type": "markdown",
   "metadata": {},
   "source": [
    "1. الطرق المستخدمة لحل النزاع\n",
    "\n",
    "الأولوية (Priority): القواعد ذات الأولوية العليا تُطبَّق أولاً.\n",
    "\n",
    "التوقيت (Recency): يتم إعطاء الأفضلية للقواعد التي تعتمد على معلومات أكثر حداثة.\n",
    "\n",
    "التخصص (Specificity): القواعد الأكثر تحديدًا لحالة معينة تتفوق على القواعد العامة.\n",
    "\n",
    "2. مبررات اختيار الطريقة\n",
    "\n",
    "الأولوية: تُساعد في إعطاء ثقل أكبر للقواعد الأكثر أهمية بالنسبة للنظام (مثل قواعد السلامة أو النزاهة الإعلامية).\n",
    "\n",
    "التوقيت: يضمن أن النظام يعتمد على أحدث المعلومات المتاحة.\n",
    "\n",
    "التخصص: يسمح للنظام بالتكيف مع الحالات الفريدة بدلًا من استخدام القواعد العامة."
   ]
  },
  {
   "cell_type": "markdown",
   "metadata": {},
   "source": [
    "## كيفية حل النزاع بين القواعد \n"
   ]
  },
  {
   "cell_type": "markdown",
   "metadata": {},
   "source": [
    "\n",
    "يتم ترتيب القواعد حسب الأولوية (الأعلى أولاً).\n",
    "\n",
    "في حال تساوي الأولوية، تُستخدم التوقيت كمعيار.\n",
    "\n",
    "إذا استمرت المساواة، تُفَضَّل القاعدة ذات التخصص الأعلى."
   ]
  },
  {
   "cell_type": "markdown",
   "metadata": {},
   "source": [
    "### ترقية الآلية بالاعتماد على الكود المرفق\n"
   ]
  },
  {
   "cell_type": "code",
   "execution_count": 172,
   "metadata": {},
   "outputs": [],
   "source": [
    "from experta import Rule , KnowledgeEngine ,Fact\n",
    "from datetime import datetime, timedelta\n"
   ]
  },
  {
   "cell_type": "code",
   "execution_count": 173,
   "metadata": {},
   "outputs": [
    {
     "name": "stdout",
     "output_type": "stream",
     "text": [
      "Initializing the Media Advisor Expert System...\n",
      "\n"
     ]
    }
   ],
   "source": [
    "class Credibility(Fact): #  لموضوع الاول عن المصداقية\n",
    "    \"\"\"Represents the environment a trainee interacts with.\"\"\"\n",
    "    pass\n",
    "\n",
    "class Content(Fact):   # الموضوع الثاني عن المحتوي\n",
    "    \"\"\"Represents the job type for the trainee.\"\"\"\n",
    "    pass\n",
    "\n",
    "\n",
    "class Interaction(Fact): # الموضوع الثالث عن التفاعل\n",
    "    \"\"\"Indicates whether feedback is required.\"\"\"\n",
    "    pass\n",
    "\n",
    "class Medium(Fact): # الموضوع الرابع \n",
    "    \"\"\"Represents the medium selected based on rules.\"\"\" # يمثل الوسيط الذي تم اختياره بناءً على القواعد \n",
    "    pass\n",
    "\n",
    "\n",
    "class MediaAdvisor(KnowledgeEngine):  # الكلاس الرئيسي الذي بداخله يتم تعريف كل القواعد \n",
    "    def __init__(self):\n",
    "        super().__init__()\n",
    "        print(\"Initializing the Media Advisor Expert System...\\n\")\n",
    "\n",
    "          # ----------------------------------  Rules about Credibility   ------------------\n",
    "\n",
    "# Rule 1                  القاعدة الاولي تشير الي ان المصدر موثوق مئة بالمئة \n",
    "    @Rule(Credibility(credibility='Old person') |\n",
    "          Credibility(credibility='Ancient history')|\n",
    "                    Credibility(credibility='Credibility') )\n",
    "\n",
    "    def Displays(self): # يعرض\n",
    "        print(\"Rule triggered: Credibility is 'Displays'.\")\n",
    "        self.declare(Fact(stimulus_situation='Displays'))\n",
    "\n",
    "            \n",
    "# Rule 2  القاعدة الثالثنية اذا كان المصدر موثوق بنسبة 80% فما فوق يعتمد\n",
    "    @Rule(Credibility(credibility=MATCH.credibility),\n",
    "         TEST(lambda credibility: credibility.isdigit() and int(credibility) >= 80))\n",
    "    def HighCredibility(self):\n",
    "        print(\"Rule triggered: High credibility detected.\")\n",
    "        self.declare(Fact(stimulus_situation='depends'))\n",
    "\n",
    " # Rule 3\n",
    "    @Rule(Credibility(credibility='Underexcited') ) # غير مثيت \n",
    "\n",
    "    def Away(self): # يبعد\n",
    "        print(\"Rule triggered: Credibility is 'Away'.\")\n",
    "        self.declare(Fact(stimulus_situation='Away'))\n",
    "\n",
    "\n",
    "\n",
    "        # ----------------------------------  Rules about Content   --------------------------\n",
    "\n",
    "# Rule 4\n",
    "    @Rule(Content(content='National') |\n",
    "      Content(content='Security'))\n",
    "    def CheckContent(self):\n",
    "        print(\"Rule triggered: Content requires 'Check'.\")\n",
    "        self.declare(Fact(stimulus_response='Check'))\n",
    "\n",
    "\n",
    "# Rule 5  قاعدة جديدة: إذا كان المحتوى مثيرًا للجدل، يتم تنبيه المسؤول\n",
    "    @Rule(Content(content='controversial') |\n",
    "      Content(content='sensitive') |\n",
    "      Content(content='violent'))\n",
    "    def AlertAdmin(self):\n",
    "        print(\"Rule triggered: Content is 'Controversial'. Notifying the admin.\")\n",
    "        self.declare(Fact(stimulus_response='Alert'))\n",
    "\n",
    "        # قاعدة: تحديد إذا كان المحتوى حديثًا\n",
    "# Rule 6\n",
    "    @Rule(Content(content=MATCH.content, updated_at=MATCH.updated_at),\n",
    "      TEST(lambda updated_at: (datetime.now() - updated_at).total_seconds() <= 3600))\n",
    "    def RecentContent(self, content, updated_at):\n",
    "        print(f\"Rule triggered: Content '{content}' is recent (updated at {updated_at}). Prioritizing.\")\n",
    "        self.declare(Fact(priority='High'))\n",
    "\n",
    "# Rule 7\n",
    "    @Rule(Content(content=MATCH.content, category='Unethical'))\n",
    "    def RejectUnethicalContent(self, content):\n",
    "        print(f\"Rule triggered: Content '{content}' is unethical. Rejecting.\")\n",
    "        self.declare(Fact(stimulus_response='Reject'))\n",
    "\n",
    "# Rule 8\n",
    "        # ----------------------------------  Rules about Interaction   --------------------------\n",
    "    @Rule(Content(content=MATCH.content, interaction=MATCH.interaction, avg_interaction=MATCH.avg_interaction),\n",
    "        TEST(lambda interaction, avg_interaction: interaction >= 5 * avg_interaction))\n",
    "    def ReviewHighInteraction(self, content, interaction, avg_interaction):\n",
    "        print(f\"Rule triggered: Content '{content}' has unusually high interaction \"\n",
    "            f\"({interaction} vs avg {avg_interaction}). Sending for review.\")\n",
    "        self.declare(Fact(stimulus_response='Review'))\n",
    "\n",
    "\n",
    "       #---------------------------------------------   FACT      ------------------------------------------------\n",
    "\n",
    "\n",
    "# Rule 9\n",
    "    @Rule(Fact(stimulus_situation='Away'),\n",
    "          Fact(stimulus_response='Check'))\n",
    "    def Non_publication(self):\n",
    "        print(\"Final Rule triggered: Selecting medium 'Non-publication'.\")\n",
    "        self.declare(Medium(medium='Non_publication'))\n",
    "        print(\"Recommended Medium: Non-publication\\n\")\n",
    "\n",
    "# Rule 10\n",
    "    @Rule(Fact(priority='High'))\n",
    "    def PublishImmediately(self):\n",
    "        print(\"Final Rule triggered: Content prioritized for immediate publication.\")\n",
    "        self.declare(Medium(medium='Immediate Publication'))\n",
    "        print(\"Recommended Medium: Immediate Publication\\n\")\n",
    "\n",
    "# Rule 11\n",
    "    @Rule(Fact(stimulus_response='Reject'))\n",
    "    def FinalReject(self):\n",
    "        print(\"Final Rule triggered: Content marked as 'Rejected'.\")\n",
    "        self.declare(Medium(medium='Rejection'))\n",
    "        print(\"Recommended Medium: Rejection\\n\")\n",
    "# Rule 12\n",
    "    @Rule(Fact(stimulus_response='Review'))\n",
    "    def FinalReview(self):\n",
    "        print(\"Final Rule triggered: Content marked for detailed review.\")\n",
    "        self.declare(Medium(medium='Detailed Review'))\n",
    "        print(\"Recommended Medium: Detailed Review\\n\")\n",
    "\n",
    "\n",
    "x = MediaAdvisor()\n"
   ]
  },
  {
   "cell_type": "code",
   "execution_count": 183,
   "metadata": {},
   "outputs": [
    {
     "name": "stdout",
     "output_type": "stream",
     "text": [
      "\n",
      "Test Case 1: Credible Source + National Content + Normal Interaction\n",
      "Rule triggered: Content requires 'Check'.\n",
      "Rule triggered: Credibility is 'Displays'.\n"
     ]
    }
   ],
   "source": [
    "\n",
    "# قاعدة 1: مصدر موثوق + محتوى وطني + تفاعل طبيعي\n",
    "print(\"\\nTest Case 1: Credible Source + National Content + Normal Interaction\")\n",
    "x.reset()\n",
    "x.declare(Credibility(credibility='Old person'))  # مصدر موثوق 100%\n",
    "x.declare(Content(content='National'))  # محتوى وطني\n",
    "x.declare(Interaction(interaction=50, avg_interaction=40))  # تفاعل طبيعي\n",
    "x.run()"
   ]
  },
  {
   "cell_type": "code",
   "execution_count": 182,
   "metadata": {},
   "outputs": [
    {
     "name": "stdout",
     "output_type": "stream",
     "text": [
      "\n",
      "Test Case 2: High Credibility Source + Controversial Content + High Interaction\n",
      "Rule triggered: Content is 'Controversial'. Notifying the admin.\n",
      "Rule triggered: High credibility detected.\n"
     ]
    }
   ],
   "source": [
    "\n",
    "# قاعدة 2: مصدر موثوق بنسبة 80% + محتوى مثير للجدل + تفاعل غير طبيعي\n",
    "print(\"\\nTest Case 2: High Credibility Source + Controversial Content + High Interaction\")\n",
    "x.reset()\n",
    "x.declare(Credibility(credibility='85'))  # مصدر موثوق بنسبة 85%\n",
    "x.declare(Content(content='controversial'))  # محتوى مثير للجدل\n",
    "x.declare(Interaction(interaction=1000, avg_interaction=150))  # تفاعل غير طبيعي (1000 تفاعل)\n",
    "x.run()"
   ]
  },
  {
   "cell_type": "code",
   "execution_count": 184,
   "metadata": {},
   "outputs": [
    {
     "name": "stdout",
     "output_type": "stream",
     "text": [
      "\n",
      "Test Case 3: Low Credibility Source + Unethical Content + Low Interaction\n",
      "Rule triggered: Content 'Hate Speech' is unethical. Rejecting.\n",
      "Final Rule triggered: Content marked as 'Rejected'.\n",
      "Recommended Medium: Rejection\n",
      "\n",
      "Rule triggered: Credibility is 'Away'.\n"
     ]
    }
   ],
   "source": [
    "# قاعدة 3: مصدر غير موثوق + محتوى غير أخلاقي + تفاعل قليل\n",
    "print(\"\\nTest Case 3: Low Credibility Source + Unethical Content + Low Interaction\")\n",
    "x.reset()\n",
    "x.declare(Credibility(credibility='Underexcited'))  # مصدر غير موثوق\n",
    "x.declare(Content(content='Hate Speech', category='Unethical'))  # محتوى غير أخلاقي\n",
    "x.declare(Interaction(interaction=5, avg_interaction=10))  # تفاعل قليل\n",
    "x.run()"
   ]
  },
  {
   "cell_type": "code",
   "execution_count": 185,
   "metadata": {},
   "outputs": [
    {
     "name": "stdout",
     "output_type": "stream",
     "text": [
      "\n",
      "Test Case 4: Recent Content + High Interaction + Credible Source\n",
      "Rule triggered: Content 'Breaking News' is recent (updated at 2024-12-04 13:13:04.749051). Prioritizing.\n",
      "Final Rule triggered: Content prioritized for immediate publication.\n",
      "Recommended Medium: Immediate Publication\n",
      "\n"
     ]
    }
   ],
   "source": [
    "# قاعدة 4: محتوى حديث + تفاعل غير طبيعي + مصدر موثوق\n",
    "print(\"\\nTest Case 4: Recent Content + High Interaction + Credible Source\")\n",
    "x.reset()\n",
    "recent_time = datetime.now() - timedelta(minutes=30)  # محتوى محدث في آخر 30 دقيقة\n",
    "x.declare(Credibility(credibility='High'))  # مصدر موثوق بنسبة عالية\n",
    "x.declare(Content(content='Breaking News', updated_at=recent_time))  # محتوى حديث\n",
    "x.declare(Interaction(interaction=1000, avg_interaction=150))  # تفاعل غير طبيعي\n",
    "x.run()"
   ]
  },
  {
   "cell_type": "code",
   "execution_count": 193,
   "metadata": {},
   "outputs": [
    {
     "name": "stdout",
     "output_type": "stream",
     "text": [
      "\n",
      "Test Case 5: National Content + Controversial Content + Low Interaction\n",
      "Rule triggered: Content is 'Controversial'. Notifying the admin.\n",
      "Rule triggered: Content requires 'Check'.\n"
     ]
    }
   ],
   "source": [
    "# قاعدة 5: محتوى وطني + محتوى مثير للجدل + تفاعل منخفض\n",
    "print(\"\\nTest Case 5: National Content + Controversial Content + Low Interaction\")\n",
    "x.reset()\n",
    "x.declare(Content(content='National'))  # محتوى وطني\n",
    "x.declare(Content(content='controversial'))  # محتوى مثير للجدل\n",
    "x.declare(Interaction(interaction=5, avg_interaction=10))  # تفاعل منخفض\n",
    "x.run()"
   ]
  },
  {
   "cell_type": "code",
   "execution_count": 191,
   "metadata": {},
   "outputs": [
    {
     "name": "stdout",
     "output_type": "stream",
     "text": [
      "\n",
      "Test Case 6: Low Credibility Source + Unethical Content + High Interaction\n",
      "Rule triggered: Content 'Hate Speech' is unethical. Rejecting.\n",
      "Final Rule triggered: Content marked as 'Rejected'.\n",
      "Recommended Medium: Rejection\n",
      "\n",
      "Rule triggered: Credibility is 'Away'.\n"
     ]
    }
   ],
   "source": [
    "\n",
    "# قاعدة 6: مصدر غير موثوق + محتوى غير أخلاقي + تفاعل غير طبيعي\n",
    "print(\"\\nTest Case 6: Low Credibility Source + Unethical Content + High Interaction\")\n",
    "x.reset()\n",
    "x.declare(Credibility(credibility='Underexcited'))  # مصدر غير موثوق\n",
    "x.declare(Content(content='Hate Speech', category='Unethical'))  # محتوى غير أخلاقي\n",
    "x.declare(Interaction(interaction=1000, avg_interaction=200))  # تفاعل غير طبيعي\n",
    "x.run()"
   ]
  },
  {
   "cell_type": "code",
   "execution_count": 194,
   "metadata": {},
   "outputs": [
    {
     "name": "stdout",
     "output_type": "stream",
     "text": [
      "\n",
      "Test Case 7: Recent Content + Controversial Content + Normal Interaction\n",
      "Rule triggered: Content is 'Controversial'. Notifying the admin.\n",
      "Rule triggered: Content 'Breaking News' is recent (updated at 2024-12-04 13:29:21.799161). Prioritizing.\n",
      "Final Rule triggered: Content prioritized for immediate publication.\n",
      "Recommended Medium: Immediate Publication\n",
      "\n"
     ]
    }
   ],
   "source": [
    "\n",
    "# قاعدة 7: محتوى حديث + محتوى مثير للجدل + تفاعل طبيعي\n",
    "print(\"\\nTest Case 7: Recent Content + Controversial Content + Normal Interaction\")\n",
    "x.reset()\n",
    "recent_time = datetime.now() - timedelta(minutes=15)  # محتوى محدث في آخر 15 دقيقة\n",
    "x.declare(Content(content='Breaking News', updated_at=recent_time))  # محتوى حديث\n",
    "x.declare(Content(content='controversial'))  # محتوى مثير للجدل\n",
    "x.declare(Interaction(interaction=50, avg_interaction=40))  # تفاعل طبيعي\n",
    "x.run()\n"
   ]
  }
 ],
 "metadata": {
  "kernelspec": {
   "display_name": "Python 3",
   "language": "python",
   "name": "python3"
  },
  "language_info": {
   "codemirror_mode": {
    "name": "ipython",
    "version": 3
   },
   "file_extension": ".py",
   "mimetype": "text/x-python",
   "name": "python",
   "nbconvert_exporter": "python",
   "pygments_lexer": "ipython3",
   "version": "3.11.9"
  }
 },
 "nbformat": 4,
 "nbformat_minor": 2
}
